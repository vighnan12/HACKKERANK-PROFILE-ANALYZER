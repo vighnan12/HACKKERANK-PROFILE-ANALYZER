{
 "cells": [
  {
   "cell_type": "code",
   "execution_count": 17,
   "metadata": {},
   "outputs": [
    {
     "name": "stdout",
     "output_type": "stream",
     "text": [
      "succesful\n",
      "Problem Solving \t bronze\n",
      "Java \t bronze\n",
      "Days of Code \t bronze\n",
      "Sql \t gold\n"
     ]
    }
   ],
   "source": [
    "import requests\n",
    "from bs4 import BeautifulSoup\n",
    "file=open(\"usernames.txt\",'r')\n",
    "\n",
    "url = f\"https://www.hackerrank.com/profile/vighnankumar\"\n",
    "headers = {\n",
    "    \"User-Agent\": \"Mozilla/5.0 (Windows NT 10.0; Win64; x64) AppleWebKit/537.36 (KHTML, like Gecko) Chrome/115.0.0.0 Safari/537.36\"\n",
    "}\n",
    "response = requests.get(url, headers=headers)\n",
    "try:\n",
    "    if response.status_code==200:\n",
    "        print(\"succesful\")\n",
    "except:\n",
    "    print(\"error in getting response\")\n",
    "soup=BeautifulSoup(response.content,'html.parser')\n",
    "content=soup.find_all('text')\n",
    "badges=soup.find_all(\"lineargradient\")\n",
    "\n",
    "for i in range(len(content)):\n",
    "    print(content[i].string,'\\t',badges[i]['id'].split('-')[1])\n",
    "\n",
    "\n",
    "\n",
    "\n"
   ]
  }
 ],
 "metadata": {
  "kernelspec": {
   "display_name": "base",
   "language": "python",
   "name": "python3"
  },
  "language_info": {
   "codemirror_mode": {
    "name": "ipython",
    "version": 3
   },
   "file_extension": ".py",
   "mimetype": "text/x-python",
   "name": "python",
   "nbconvert_exporter": "python",
   "pygments_lexer": "ipython3",
   "version": "3.11.3"
  }
 },
 "nbformat": 4,
 "nbformat_minor": 2
}
